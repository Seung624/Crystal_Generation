{
 "cells": [
  {
   "cell_type": "code",
   "execution_count": 2,
   "id": "beb1b3db",
   "metadata": {},
   "outputs": [
    {
     "name": "stdout",
     "output_type": "stream",
     "text": [
      "/storage2/seunghh/anaconda3_envs/polyclip/bin/python\r\n"
     ]
    }
   ],
   "source": [
    "!which python"
   ]
  },
  {
   "cell_type": "code",
   "execution_count": 3,
   "id": "79075b8c",
   "metadata": {},
   "outputs": [
    {
     "name": "stdout",
     "output_type": "stream",
     "text": [
      "/storage2/seunghh/anaconda3_envs/polyclip/lib/python3.8/site-packages/pkg_resources/__init__.py:116: PkgResourcesDeprecationWarning: rch is an invalid version and will not be supported in a future release\r\n",
      "  warnings.warn(\r\n"
     ]
    }
   ],
   "source": [
    "!python change_params_dir.py"
   ]
  },
  {
   "cell_type": "code",
   "execution_count": 5,
   "id": "15214fc8",
   "metadata": {},
   "outputs": [
    {
     "name": "stderr",
     "output_type": "stream",
     "text": [
      "/storage2/seunghh/anaconda3_envs/polyclip/lib/python3.8/site-packages/pkg_resources/__init__.py:116: PkgResourcesDeprecationWarning: rch is an invalid version and will not be supported in a future release\n",
      "  warnings.warn(\n"
     ]
    }
   ],
   "source": [
    "import torch\n",
    "tmp = torch.load('./generation/epoch=888-step=88888.ckpt')"
   ]
  },
  {
   "cell_type": "code",
   "execution_count": 7,
   "id": "97bbe55e",
   "metadata": {
    "scrolled": true
   },
   "outputs": [
    {
     "data": {
      "text/plain": [
       "{'encoder': {'_target_': 'cdvae.pl_modules.gnn.DimeNetPlusPlusWrap', 'num_targets': 1, 'hidden_channels': 128, 'num_blocks': 4, 'int_emb_size': 64, 'basis_emb_size': 8, 'out_emb_channels': 256, 'num_spherical': 7, 'num_radial': 6, 'otf_graph': False, 'cutoff': 7.0, 'max_num_neighbors': 20, 'envelope_exponent': 5, 'num_before_skip': 1, 'num_after_skip': 2, 'num_output_layers': 3, 'readout': 'mean'},\n",
       " 'decoder': {'_target_': 'cdvae.pl_modules.decoder.GemNetTDecoder', 'hidden_dim': 128, 'latent_dim': 256, 'max_neighbors': 20, 'radius': 7.0, 'scale_file': '/storage2/seunghh/cdvae_seung/upload/cdvae/cdvae/pl_modules/gemnet/gemnet-dT.json'},\n",
       " 'hidden_dim': 256,\n",
       " 'latent_dim': 256,\n",
       " 'fc_num_layers': 1,\n",
       " 'max_atoms': 20,\n",
       " 'cost_natom': 1.0,\n",
       " 'cost_coord': 10.0,\n",
       " 'cost_type': 1.0,\n",
       " 'cost_lattice': 10.0,\n",
       " 'cost_composition': 1.0,\n",
       " 'cost_edge': 10.0,\n",
       " 'cost_property': 1.0,\n",
       " 'beta': 0.01,\n",
       " 'teacher_forcing_lattice': True,\n",
       " 'teacher_forcing_max_epoch': 500,\n",
       " 'max_neighbors': 20,\n",
       " 'radius': 7.0,\n",
       " 'sigma_begin': 10.0,\n",
       " 'sigma_end': 0.01,\n",
       " 'type_sigma_begin': 5.0,\n",
       " 'type_sigma_end': 0.01,\n",
       " 'num_noise_level': 50,\n",
       " 'predict_property': True,\n",
       " 'optim': {'optimizer': {'_target_': 'torch.optim.Adam', 'lr': 0.001, 'betas': [0.9, 0.999], 'eps': 1e-08, 'weight_decay': 0}, 'use_lr_scheduler': True, 'lr_scheduler': {'_target_': 'torch.optim.lr_scheduler.ReduceLROnPlateau', 'factor': 0.6, 'patience': 30, 'min_lr': 0.0001}},\n",
       " 'data': {'root_path': '/storage2/seunghh/cdvae_seung/upload/cdvae/data/mp_20', 'prop': 'formation_energy_per_atom', 'num_targets': 1, 'niggli': True, 'primitive': False, 'graph_method': 'crystalnn', 'lattice_scale_method': 'scale_length', 'preprocess_workers': 30, 'readout': 'mean', 'max_atoms': 20, 'otf_graph': False, 'eval_model_name': 'mp20', 'train_max_epochs': 1000, 'early_stopping_patience': 100000, 'teacher_forcing_max_epoch': 500, 'datamodule': {'_target_': 'cdvae.pl_data.datamodule.CrystDataModule', 'datasets': {'train': {'_target_': 'cdvae.pl_data.dataset.CrystDataset', 'name': 'Formation energy train', 'path': '/storage2/seunghh/cdvae_seung/upload/cdvae/data/mp_20/train.csv', 'prop': 'formation_energy_per_atom', 'niggli': True, 'primitive': False, 'graph_method': 'crystalnn', 'lattice_scale_method': 'scale_length', 'preprocess_workers': 30}, 'val': [{'_target_': 'cdvae.pl_data.dataset.CrystDataset', 'name': 'Formation energy val', 'path': '/storage2/seunghh/cdvae_seung/upload/cdvae/data/mp_20/val.csv', 'prop': 'formation_energy_per_atom', 'niggli': True, 'primitive': False, 'graph_method': 'crystalnn', 'lattice_scale_method': 'scale_length', 'preprocess_workers': 30}], 'test': [{'_target_': 'cdvae.pl_data.dataset.CrystDataset', 'name': 'Formation energy test', 'path': '/storage2/seunghh/cdvae_seung/upload/cdvae/data/mp_20/test.csv', 'prop': 'formation_energy_per_atom', 'niggli': True, 'primitive': False, 'graph_method': 'crystalnn', 'lattice_scale_method': 'scale_length', 'preprocess_workers': 30}]}, 'num_workers': {'train': 0, 'val': 0, 'test': 0}, 'batch_size': {'train': 256, 'val': 256, 'test': 256}}},\n",
       " 'logging': {'val_check_interval': 5, 'progress_bar_refresh_rate': 20, 'wandb': {'name': 'mp_20', 'project': 'crystal_generation_mit', 'entity': None, 'log_model': True, 'mode': 'online', 'group': 'mp_20'}, 'wandb_watch': {'log': 'all', 'log_freq': 500}, 'lr_monitor': {'logging_interval': 'step', 'log_momentum': False}}}"
      ]
     },
     "execution_count": 7,
     "metadata": {},
     "output_type": "execute_result"
    }
   ],
   "source": [
    "tmp['hyper_parameters']"
   ]
  },
  {
   "cell_type": "code",
   "execution_count": null,
   "id": "30e17769",
   "metadata": {},
   "outputs": [],
   "source": []
  },
  {
   "cell_type": "code",
   "execution_count": null,
   "id": "6e4cfee5",
   "metadata": {},
   "outputs": [],
   "source": [
    "!/home/seunghh/anaconda3/envs/cdvae/bin/python generation.py --model_path './generation/'  --label 'cd2s_1' --num_gradient=5000 --num_crys 4 --seed 42"
   ]
  }
 ],
 "metadata": {
  "kernelspec": {
   "display_name": "Python 3 (ipykernel)",
   "language": "python",
   "name": "python3"
  },
  "language_info": {
   "codemirror_mode": {
    "name": "ipython",
    "version": 3
   },
   "file_extension": ".py",
   "mimetype": "text/x-python",
   "name": "python",
   "nbconvert_exporter": "python",
   "pygments_lexer": "ipython3",
   "version": "3.8.0"
  }
 },
 "nbformat": 4,
 "nbformat_minor": 5
}
